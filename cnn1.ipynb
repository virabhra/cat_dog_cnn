{
 "cells": [
  {
   "cell_type": "code",
   "execution_count": 1,
   "id": "87f5ed0b",
   "metadata": {},
   "outputs": [],
   "source": [
    "#import tensorflow as tf\n",
    "from keras.models import Sequential\n",
    "from keras.layers import  Conv2D\n",
    "from keras.layers import MaxPooling2D\n",
    "from keras.layers import Flatten\n",
    "from keras.layers import Dense\n",
    "from keras.callbacks import ModelCheckpoint, EarlyStopping"
   ]
  },
  {
   "cell_type": "code",
   "execution_count": 2,
   "id": "8db38956",
   "metadata": {},
   "outputs": [],
   "source": [
    "# Initialising the CNN\n",
    "classifier = Sequential()\n",
    "\n",
    "# Step 1 - Convolution\n",
    "classifier.add(Conv2D(32, (3, 3), input_shape=(64, 64, 3), activation='relu'))\n",
    "\n",
    "# add 2nd convolution layer\n",
    "classifier.add(Conv2D(32, (3, 3), activation='relu'))\n",
    "classifier.add(MaxPooling2D(pool_size=(2,2)))\n",
    "\n",
    "# add 3rd convolution layer\n",
    "classifier.add(Conv2D(32, (3, 3), activation='relu'))\n",
    "\n",
    "# add 4th layer with max_pooling\n",
    "classifier.add(Conv2D(32,(3, 3), activation='relu'))\n",
    "classifier.add(MaxPooling2D(pool_size=(2, 2)))\n",
    "\n",
    "#Flattening\n",
    "classifier.add(Flatten())\n",
    "\n",
    "#Developing ANN artict\n",
    "# Step 4 - Full connection\n",
    "classifier.add(Dense(units=128, activation='relu'))\n",
    "classifier.add(Dense(units=1, activation='sigmoid'))\n",
    "\n",
    "# Compiling the CNN\n",
    "classifier.compile(optimizer='adam', loss='binary_crossentropy', metrics=['accuracy'])\n"
   ]
  },
  {
   "cell_type": "code",
   "execution_count": 3,
   "id": "6e8c05a0",
   "metadata": {},
   "outputs": [
    {
     "name": "stdout",
     "output_type": "stream",
     "text": [
      "Found 8048 images belonging to 2 classes.\n",
      "Found 2000 images belonging to 2 classes.\n"
     ]
    }
   ],
   "source": [
    "# Part 2 - Fitting the CNN to the images\n",
    "from keras.preprocessing.image import ImageDataGenerator\n",
    "\n",
    "train_datagen = ImageDataGenerator(rescale = 1./255,\n",
    "                                   shear_range = 0.2,\n",
    "                                   zoom_range = 0.2,\n",
    "                                   horizontal_flip=True)\n",
    "test_datagen = ImageDataGenerator(rescale = 1./255)\n",
    "\n",
    "\n",
    "training_set = train_datagen.flow_from_directory('C:/DS/Practice/DL/cnn_1/dataset/training_set',\n",
    "                                                 target_size = (64, 64),\n",
    "                                                 batch_size = 32,\n",
    "                                                 class_mode = 'binary')\n",
    "\n",
    "test_set = test_datagen.flow_from_directory('C:/DS/Practice/DL/cnn_1/dataset/test_set',\n",
    "                                            target_size = (64, 64),\n",
    "                                            batch_size = 32,\n",
    "                                            class_mode = 'binary')\n"
   ]
  },
  {
   "cell_type": "code",
   "execution_count": null,
   "id": "031135b3",
   "metadata": {},
   "outputs": [],
   "source": [
    "#callback = tf.keras.callbacks.EarlyStopping(monitor='val_accuracy', patience=1, mode='auto', restore_best_weights=True)"
   ]
  },
  {
   "cell_type": "code",
   "execution_count": 4,
   "id": "5a557d0c",
   "metadata": {},
   "outputs": [
    {
     "name": "stdout",
     "output_type": "stream",
     "text": [
      "Epoch 1/10\n",
      "252/252 [==============================] - 111s 440ms/step - loss: 0.6879 - accuracy: 0.5430 - val_loss: 0.6719 - val_accuracy: 0.5880\n",
      "Epoch 2/10\n",
      "252/252 [==============================] - 108s 429ms/step - loss: 0.6506 - accuracy: 0.6301 - val_loss: 0.6420 - val_accuracy: 0.6465\n",
      "Epoch 3/10\n",
      "252/252 [==============================] - 106s 422ms/step - loss: 0.5990 - accuracy: 0.6789 - val_loss: 0.5931 - val_accuracy: 0.6875\n",
      "Epoch 4/10\n",
      "252/252 [==============================] - 102s 403ms/step - loss: 0.5652 - accuracy: 0.7106 - val_loss: 0.5415 - val_accuracy: 0.7440\n",
      "Epoch 5/10\n",
      "252/252 [==============================] - 103s 408ms/step - loss: 0.5290 - accuracy: 0.7367 - val_loss: 0.5233 - val_accuracy: 0.7450\n",
      "Epoch 6/10\n",
      "252/252 [==============================] - 107s 424ms/step - loss: 0.5045 - accuracy: 0.7552 - val_loss: 0.5174 - val_accuracy: 0.7580\n",
      "Epoch 7/10\n",
      "252/252 [==============================] - 120s 476ms/step - loss: 0.4872 - accuracy: 0.7627 - val_loss: 0.4857 - val_accuracy: 0.7675\n",
      "Epoch 8/10\n",
      "252/252 [==============================] - 126s 498ms/step - loss: 0.4588 - accuracy: 0.7844 - val_loss: 0.4662 - val_accuracy: 0.7910\n",
      "Epoch 9/10\n",
      "252/252 [==============================] - 117s 465ms/step - loss: 0.4451 - accuracy: 0.7929 - val_loss: 0.4669 - val_accuracy: 0.7800\n",
      "Epoch 10/10\n",
      "252/252 [==============================] - 110s 437ms/step - loss: 0.4334 - accuracy: 0.7968 - val_loss: 0.4630 - val_accuracy: 0.7800\n"
     ]
    },
    {
     "data": {
      "text/plain": [
       "<tensorflow.python.keras.callbacks.History at 0x26c13e76d00>"
      ]
     },
     "execution_count": 4,
     "metadata": {},
     "output_type": "execute_result"
    }
   ],
   "source": [
    "classifier.fit(training_set,\n",
    "                         steps_per_epoch = len(training_set),\n",
    "                         epochs = 10,\n",
    "                         validation_data = test_set,\n",
    "                         validation_steps = len(test_set))\n",
    "#callbacks=[callback]"
   ]
  },
  {
   "cell_type": "code",
   "execution_count": 5,
   "id": "6f520730",
   "metadata": {},
   "outputs": [
    {
     "name": "stdout",
     "output_type": "stream",
     "text": [
      "Saved model to disk\n"
     ]
    }
   ],
   "source": [
    "classifier.save(\"model.h5\")\n",
    "print(\"Saved model to disk\")"
   ]
  },
  {
   "cell_type": "code",
   "execution_count": 6,
   "id": "99db08d9",
   "metadata": {},
   "outputs": [],
   "source": [
    "import numpy as np\n",
    "from keras.models import load_model\n",
    "from keras.preprocessing import image"
   ]
  },
  {
   "cell_type": "code",
   "execution_count": 8,
   "id": "30e1a5c9",
   "metadata": {},
   "outputs": [],
   "source": [
    "# load model\n",
    "model_load = load_model('model.h5')"
   ]
  },
  {
   "cell_type": "code",
   "execution_count": 52,
   "id": "b718a454",
   "metadata": {},
   "outputs": [
    {
     "name": "stdout",
     "output_type": "stream",
     "text": [
      "cat\n"
     ]
    }
   ],
   "source": [
    "test_image = image.load_img('C:/DS/Practice/DL/cnn_1/dataset/single_prediction/cat_or_dog_2.jpg', target_size = (64, 64))\n",
    "test_image = image.img_to_array(test_image)\n",
    "test_image = np.expand_dims(test_image, axis = 0)\n",
    "result = model_load.predict(test_image)\n",
    "training_set.class_indices\n",
    "if result[0][0] == 1:\n",
    "    prediction = 'dog'\n",
    "else:\n",
    "    prediction = 'cat'\n",
    "print(prediction)"
   ]
  },
  {
   "cell_type": "code",
   "execution_count": 31,
   "id": "302db61a",
   "metadata": {},
   "outputs": [],
   "source": [
    "#wrong prediction image 4,5"
   ]
  },
  {
   "cell_type": "code",
   "execution_count": null,
   "id": "723401d9",
   "metadata": {},
   "outputs": [],
   "source": []
  },
  {
   "cell_type": "code",
   "execution_count": null,
   "id": "da9350ba",
   "metadata": {},
   "outputs": [],
   "source": []
  },
  {
   "cell_type": "code",
   "execution_count": null,
   "id": "a06df1e7",
   "metadata": {},
   "outputs": [],
   "source": []
  }
 ],
 "metadata": {
  "kernelspec": {
   "display_name": "Python 3",
   "language": "python",
   "name": "python3"
  },
  "language_info": {
   "codemirror_mode": {
    "name": "ipython",
    "version": 3
   },
   "file_extension": ".py",
   "mimetype": "text/x-python",
   "name": "python",
   "nbconvert_exporter": "python",
   "pygments_lexer": "ipython3",
   "version": "3.8.10"
  }
 },
 "nbformat": 4,
 "nbformat_minor": 5
}
